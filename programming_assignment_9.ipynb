{
 "cells": [
  {
   "cell_type": "markdown",
   "metadata": {},
   "source": [
    "1. Write a Python program to check if the given number is a Disarium Number?\n",
    "Ans:-"
   ]
  },
  {
   "cell_type": "code",
   "execution_count": 9,
   "metadata": {},
   "outputs": [
    {
     "name": "stdout",
     "output_type": "stream",
     "text": [
      "Enter your number:89\n",
      "Disarium Number\n"
     ]
    }
   ],
   "source": [
    "import math\n",
    "def check(n):\n",
    "    num_of_digit=len(str(n))\n",
    "    sum=0\n",
    "    x=n\n",
    "    while(x!=0):\n",
    "        r=x%10\n",
    "        sum=(int)(sum+math.pow(r,num_of_digit))\n",
    "        num_of_digit=num_of_digit-1\n",
    "        x=x//10\n",
    "        \n",
    "    return sum\n",
    "n=int(input(\"Enter your number:\"))\n",
    "\n",
    "if int(check(n))==int(n):\n",
    "    print(\"Disarium Number\")\n",
    "    \n",
    "    \n",
    "else:\n",
    "    print(\"not disarium number\")"
   ]
  },
  {
   "cell_type": "markdown",
   "metadata": {},
   "source": [
    "2. Write a Python program to print all disarium numbers between 1 to 100?\n",
    "Ans:-"
   ]
  },
  {
   "cell_type": "code",
   "execution_count": 13,
   "metadata": {},
   "outputs": [
    {
     "name": "stdout",
     "output_type": "stream",
     "text": [
      "[0, 1, 2, 3, 4, 5, 6, 7, 8, 9, 89]\n"
     ]
    }
   ],
   "source": [
    "import math\n",
    "list=[]\n",
    "def check():\n",
    "    for i in range(101):\n",
    "        num_of_digit=len(str(i))\n",
    "        sum=0\n",
    "        x=i\n",
    "        while(x!=0):\n",
    "            r=x%10\n",
    "            sum=(int)(sum+math.pow(r,num_of_digit))\n",
    "            num_of_digit=num_of_digit-1\n",
    "            x=x//10\n",
    "        \n",
    "        if sum == i:\n",
    "            list.append(i)\n",
    "\n",
    "\n",
    "\n",
    " \n",
    "    \n",
    "check()    \n",
    "print(list)    "
   ]
  },
  {
   "cell_type": "markdown",
   "metadata": {},
   "source": [
    "3. Write a Python program to check if the given number is Happy Number?\n",
    "Ans:-"
   ]
  },
  {
   "cell_type": "code",
   "execution_count": 6,
   "metadata": {},
   "outputs": [
    {
     "name": "stdout",
     "output_type": "stream",
     "text": [
      "True\n"
     ]
    }
   ],
   "source": [
    "\n",
    "\n",
    "def happy_number(n):\n",
    "    past=set()\n",
    "    while n!=1:\n",
    "        n=sum(int(i)**2 for i in str(n))\n",
    "        if n in past:\n",
    "            return False\n",
    "        past.add(n)\n",
    "    return True\n",
    "\n",
    "happy=happy_number(100)\n",
    "print(happy)\n"
   ]
  },
  {
   "cell_type": "markdown",
   "metadata": {},
   "source": [
    "4. Write a Python program to print all happy numbers between 1 and 100?"
   ]
  },
  {
   "cell_type": "code",
   "execution_count": 7,
   "metadata": {},
   "outputs": [
    {
     "name": "stdout",
     "output_type": "stream",
     "text": [
      "ENTER LOWEST VALUE : 1\n",
      "ENTER HIGHEST VALUE : 100\n",
      "HAPPY NUMBERS WITHIN RANGE(1,100) ARE -\n",
      "1 7 10 13 19 23 28 31 32 44 49 68 70 79 82 86 91 94 97 100 "
     ]
    }
   ],
   "source": [
    "def check_happy(number):\n",
    "  remainder = 0\n",
    "  happy_num = 0;    \n",
    "  while(number > 0):    \n",
    "    remainder = number%10;    \n",
    "    happy_num = happy_num + (remainder*remainder);    \n",
    "    number = number//10;\n",
    "  return happy_num;\n",
    "lower = int(input(\"ENTER LOWEST VALUE : \"))\n",
    "upper = int(input(\"ENTER HIGHEST VALUE : \"))\n",
    "print(\"HAPPY NUMBERS WITHIN RANGE({},{}) ARE -\".format(lower,upper))\n",
    "for i in range(lower,upper+1):\n",
    "  happy_num = i\n",
    "  while(happy_num != 1 and happy_num != 4):\n",
    "    happy_num = check_happy(happy_num)\n",
    "  if(happy_num == 1):\n",
    "    print(i,end=\" \")"
   ]
  },
  {
   "cell_type": "markdown",
   "metadata": {},
   "source": [
    "5. Write a Python program to determine whether the given number is a Harshad Number?"
   ]
  },
  {
   "cell_type": "code",
   "execution_count": 10,
   "metadata": {},
   "outputs": [
    {
     "name": "stdout",
     "output_type": "stream",
     "text": [
      "Enter a number:4564\n",
      "4564 is not Harshad number\n"
     ]
    }
   ],
   "source": [
    "number=int(input(\"Enter a number:\"))\n",
    "copy=number\n",
    "digit_sum=0\n",
    "while number:\n",
    "    digit_sum+=number%10\n",
    "    number//=10\n",
    "\n",
    "if copy%digit_sum==0:\n",
    "    print('%d is Harshad number'%(copy))\n",
    "else:\n",
    "    print('%d is not Harshad number'%(copy))"
   ]
  },
  {
   "cell_type": "markdown",
   "metadata": {},
   "source": [
    "6. Write a Python program to print all pronic numbers between 1 and 100?"
   ]
  },
  {
   "cell_type": "code",
   "execution_count": 6,
   "metadata": {},
   "outputs": [
    {
     "name": "stdout",
     "output_type": "stream",
     "text": [
      "Pronic numbers between 1 and 100: \n",
      "2\n",
      "6\n",
      "12\n",
      "20\n",
      "30\n",
      "42\n",
      "56\n",
      "72\n",
      "90\n"
     ]
    }
   ],
   "source": [
    "def ponicNumber(num):\n",
    "    flag=False\n",
    "    for j in range(1,num+1):\n",
    "        if((j*(j+1)) == num):    \n",
    "            flag=True\n",
    "            break\n",
    "    return flag\n",
    "        \n",
    "print(\"Pronic numbers between 1 and 100: \")   \n",
    "for i in range(1,101):    \n",
    "    if(ponicNumber(i)):    \n",
    "        print(i)    \n",
    "           "
   ]
  },
  {
   "cell_type": "code",
   "execution_count": null,
   "metadata": {},
   "outputs": [],
   "source": []
  }
 ],
 "metadata": {
  "kernelspec": {
   "display_name": "Python 3",
   "language": "python",
   "name": "python3"
  },
  "language_info": {
   "codemirror_mode": {
    "name": "ipython",
    "version": 3
   },
   "file_extension": ".py",
   "mimetype": "text/x-python",
   "name": "python",
   "nbconvert_exporter": "python",
   "pygments_lexer": "ipython3",
   "version": "3.8.5"
  }
 },
 "nbformat": 4,
 "nbformat_minor": 4
}
